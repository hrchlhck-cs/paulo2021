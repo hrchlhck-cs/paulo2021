{
  "cells": [
    {
      "cell_type": "code",
      "execution_count": 2,
      "metadata": {
        "id": "YxjqDlR-IM_B"
      },
      "outputs": [],
      "source": [
        "from sklearn.ensemble import RandomForestClassifier\n",
        "from sklearn.metrics import (\n",
        "    classification_report, \n",
        "    confusion_matrix,\n",
        "    accuracy_score\n",
        ")\n",
        "from sklearn.neural_network import MLPClassifier\n",
        "from sklearn.ensemble import RandomForestClassifier\n",
        "from sklearn.model_selection import train_test_split\n",
        "from sklearn.preprocessing import LabelEncoder\n",
        "\n",
        "import pandas as pd\n",
        "import numpy as np\n",
        "import pickle\n",
        "\n",
        "from typing import Tuple, List"
      ]
    },
    {
      "cell_type": "markdown",
      "metadata": {},
      "source": [
        "## Preparing dataset"
      ]
    },
    {
      "cell_type": "code",
      "execution_count": 3,
      "metadata": {
        "id": "uNaUuaJUIM_H"
      },
      "outputs": [],
      "source": [
        "df = pd.read_csv('scada-sysmon-sysstat.csv')"
      ]
    },
    {
      "cell_type": "code",
      "execution_count": 4,
      "metadata": {},
      "outputs": [
        {
          "data": {
            "text/html": [
              "<div>\n",
              "<style scoped>\n",
              "    .dataframe tbody tr th:only-of-type {\n",
              "        vertical-align: middle;\n",
              "    }\n",
              "\n",
              "    .dataframe tbody tr th {\n",
              "        vertical-align: top;\n",
              "    }\n",
              "\n",
              "    .dataframe thead th {\n",
              "        text-align: right;\n",
              "    }\n",
              "</style>\n",
              "<table border=\"1\" class=\"dataframe\">\n",
              "  <thead>\n",
              "    <tr style=\"text-align: right;\">\n",
              "      <th></th>\n",
              "      <th>total_fpackets</th>\n",
              "      <th>total_fvolume</th>\n",
              "      <th>total_bpackets</th>\n",
              "      <th>total_bvolume</th>\n",
              "      <th>min_fpktl</th>\n",
              "      <th>mean_fpktl</th>\n",
              "      <th>max_fpktl</th>\n",
              "      <th>std_fpktl</th>\n",
              "      <th>min_bpktl</th>\n",
              "      <th>mean_bpktl</th>\n",
              "      <th>...</th>\n",
              "      <th>ID19</th>\n",
              "      <th>ID20</th>\n",
              "      <th>ID21</th>\n",
              "      <th>ID22</th>\n",
              "      <th>classe_atk_num</th>\n",
              "      <th>classe_num</th>\n",
              "      <th>class_atk_sysmon</th>\n",
              "      <th>class_sysmon</th>\n",
              "      <th>class_atk_sysstat</th>\n",
              "      <th>class_sysstat</th>\n",
              "    </tr>\n",
              "  </thead>\n",
              "  <tbody>\n",
              "    <tr>\n",
              "      <th>0</th>\n",
              "      <td>-0.531611</td>\n",
              "      <td>-0.973446</td>\n",
              "      <td>-1.166558</td>\n",
              "      <td>-1.349828</td>\n",
              "      <td>-1.399612</td>\n",
              "      <td>-1.757253</td>\n",
              "      <td>-1.586249</td>\n",
              "      <td>-0.911927</td>\n",
              "      <td>-0.516389</td>\n",
              "      <td>-1.458594</td>\n",
              "      <td>...</td>\n",
              "      <td>0.0</td>\n",
              "      <td>0.0</td>\n",
              "      <td>0.0</td>\n",
              "      <td>-0.287435</td>\n",
              "      <td>0</td>\n",
              "      <td>0</td>\n",
              "      <td>acunetix</td>\n",
              "      <td>ataque</td>\n",
              "      <td>acunetix</td>\n",
              "      <td>ataque</td>\n",
              "    </tr>\n",
              "    <tr>\n",
              "      <th>1</th>\n",
              "      <td>-0.531611</td>\n",
              "      <td>-0.973446</td>\n",
              "      <td>-1.166558</td>\n",
              "      <td>-1.349828</td>\n",
              "      <td>-1.399612</td>\n",
              "      <td>-1.757253</td>\n",
              "      <td>-1.586249</td>\n",
              "      <td>-0.911927</td>\n",
              "      <td>-0.516389</td>\n",
              "      <td>-1.458594</td>\n",
              "      <td>...</td>\n",
              "      <td>0.0</td>\n",
              "      <td>0.0</td>\n",
              "      <td>0.0</td>\n",
              "      <td>-0.287435</td>\n",
              "      <td>0</td>\n",
              "      <td>0</td>\n",
              "      <td>acunetix</td>\n",
              "      <td>ataque</td>\n",
              "      <td>acunetix</td>\n",
              "      <td>ataque</td>\n",
              "    </tr>\n",
              "    <tr>\n",
              "      <th>2</th>\n",
              "      <td>-0.344116</td>\n",
              "      <td>-0.792588</td>\n",
              "      <td>-1.166558</td>\n",
              "      <td>-1.349828</td>\n",
              "      <td>-1.399612</td>\n",
              "      <td>-1.948322</td>\n",
              "      <td>-1.586249</td>\n",
              "      <td>-0.911927</td>\n",
              "      <td>-0.516389</td>\n",
              "      <td>-1.458594</td>\n",
              "      <td>...</td>\n",
              "      <td>0.0</td>\n",
              "      <td>0.0</td>\n",
              "      <td>0.0</td>\n",
              "      <td>-0.287435</td>\n",
              "      <td>0</td>\n",
              "      <td>0</td>\n",
              "      <td>acunetix</td>\n",
              "      <td>ataque</td>\n",
              "      <td>acunetix</td>\n",
              "      <td>ataque</td>\n",
              "    </tr>\n",
              "    <tr>\n",
              "      <th>3</th>\n",
              "      <td>-0.344116</td>\n",
              "      <td>-0.792588</td>\n",
              "      <td>-1.166558</td>\n",
              "      <td>-1.349828</td>\n",
              "      <td>-1.399612</td>\n",
              "      <td>-1.948322</td>\n",
              "      <td>-1.586249</td>\n",
              "      <td>-0.911927</td>\n",
              "      <td>-0.516389</td>\n",
              "      <td>-1.458594</td>\n",
              "      <td>...</td>\n",
              "      <td>0.0</td>\n",
              "      <td>0.0</td>\n",
              "      <td>0.0</td>\n",
              "      <td>-0.287435</td>\n",
              "      <td>0</td>\n",
              "      <td>0</td>\n",
              "      <td>acunetix</td>\n",
              "      <td>ataque</td>\n",
              "      <td>acunetix</td>\n",
              "      <td>ataque</td>\n",
              "    </tr>\n",
              "    <tr>\n",
              "      <th>4</th>\n",
              "      <td>-0.344116</td>\n",
              "      <td>-0.792588</td>\n",
              "      <td>-1.166558</td>\n",
              "      <td>-1.349828</td>\n",
              "      <td>-1.399612</td>\n",
              "      <td>-1.948322</td>\n",
              "      <td>-1.586249</td>\n",
              "      <td>-0.911927</td>\n",
              "      <td>-0.516389</td>\n",
              "      <td>-1.458594</td>\n",
              "      <td>...</td>\n",
              "      <td>0.0</td>\n",
              "      <td>0.0</td>\n",
              "      <td>0.0</td>\n",
              "      <td>-0.287435</td>\n",
              "      <td>0</td>\n",
              "      <td>0</td>\n",
              "      <td>acunetix</td>\n",
              "      <td>ataque</td>\n",
              "      <td>acunetix</td>\n",
              "      <td>ataque</td>\n",
              "    </tr>\n",
              "  </tbody>\n",
              "</table>\n",
              "<p>5 rows × 113 columns</p>\n",
              "</div>"
            ],
            "text/plain": [
              "   total_fpackets  total_fvolume  total_bpackets  total_bvolume  min_fpktl  \\\n",
              "0       -0.531611      -0.973446       -1.166558      -1.349828  -1.399612   \n",
              "1       -0.531611      -0.973446       -1.166558      -1.349828  -1.399612   \n",
              "2       -0.344116      -0.792588       -1.166558      -1.349828  -1.399612   \n",
              "3       -0.344116      -0.792588       -1.166558      -1.349828  -1.399612   \n",
              "4       -0.344116      -0.792588       -1.166558      -1.349828  -1.399612   \n",
              "\n",
              "   mean_fpktl  max_fpktl  std_fpktl  min_bpktl  mean_bpktl  ...  ID19  ID20  \\\n",
              "0   -1.757253  -1.586249  -0.911927  -0.516389   -1.458594  ...   0.0   0.0   \n",
              "1   -1.757253  -1.586249  -0.911927  -0.516389   -1.458594  ...   0.0   0.0   \n",
              "2   -1.948322  -1.586249  -0.911927  -0.516389   -1.458594  ...   0.0   0.0   \n",
              "3   -1.948322  -1.586249  -0.911927  -0.516389   -1.458594  ...   0.0   0.0   \n",
              "4   -1.948322  -1.586249  -0.911927  -0.516389   -1.458594  ...   0.0   0.0   \n",
              "\n",
              "   ID21      ID22  classe_atk_num  classe_num  class_atk_sysmon  class_sysmon  \\\n",
              "0   0.0 -0.287435               0           0          acunetix        ataque   \n",
              "1   0.0 -0.287435               0           0          acunetix        ataque   \n",
              "2   0.0 -0.287435               0           0          acunetix        ataque   \n",
              "3   0.0 -0.287435               0           0          acunetix        ataque   \n",
              "4   0.0 -0.287435               0           0          acunetix        ataque   \n",
              "\n",
              "   class_atk_sysstat  class_sysstat  \n",
              "0           acunetix         ataque  \n",
              "1           acunetix         ataque  \n",
              "2           acunetix         ataque  \n",
              "3           acunetix         ataque  \n",
              "4           acunetix         ataque  \n",
              "\n",
              "[5 rows x 113 columns]"
            ]
          },
          "execution_count": 4,
          "metadata": {},
          "output_type": "execute_result"
        }
      ],
      "source": [
        "df.head()"
      ]
    },
    {
      "cell_type": "code",
      "execution_count": 5,
      "metadata": {},
      "outputs": [],
      "source": [
        "# Dropping meaningless columns based on RF feature importances for iptables, \n",
        "# snort_win, and snort_linux\n",
        "df.drop(['min_idle', 'mean_idle', 'max_idle', 'std_idle', 'furg_cnt', 'burg_cnt', 'std_active'], axis=1, inplace=True)"
      ]
    },
    {
      "cell_type": "code",
      "execution_count": 6,
      "metadata": {},
      "outputs": [],
      "source": [
        "le = LabelEncoder()\n",
        "df['label_tipo'] = le.fit_transform(df['tipo'])"
      ]
    },
    {
      "cell_type": "code",
      "execution_count": 7,
      "metadata": {},
      "outputs": [
        {
          "data": {
            "text/plain": [
              "'total_fpackets, total_fvolume, total_bpackets, total_bvolume, min_fpktl, mean_fpktl, max_fpktl, std_fpktl, min_bpktl, mean_bpktl, max_bpktl, std_bpktl, min_fiat, mean_fiat, max_fiat, std_fiat, min_biat, mean_biat, max_biat, std_biat, duration, min_active, mean_active, max_active, sflow_fpackets, sflow_fbytes, sflow_bpackets, sflow_bbytes, fpsh_cnt, bpsh_cnt, total_fhlen, total_bhlen, timestamp, iptables, snort_linux, snort_win, tipo, attack, txpck, rxkB, txkB, rxcmp, txcmp, rxmcst, ifutil, kbmemfree, kbmemused, memused, kbbuffers, kbcached, kbcommit, commit, kbactive, kbinact, kbdirty, kbanonpg, kbslab, kbkstack, kbpgtbl, kbvmused, CPU, nice, sys, iowait, steal, irq, soft, guest, gnice, idle, pswpin, pswpout, proc, cswch, intr, sum, classe_atk_num_sysmon, classe_num_sysmon, ID1, ID2, ID3, ID4, ID5, ID6, ID7, ID8, ID9, ID10, ID11, ID12, ID13, ID14, ID15, ID16, ID17, ID18, ID19, ID20, ID21, ID22, classe_atk_num, classe_num, class_atk_sysmon, class_sysmon, class_atk_sysstat, class_sysstat, label_tipo'"
            ]
          },
          "execution_count": 7,
          "metadata": {},
          "output_type": "execute_result"
        }
      ],
      "source": [
        "', '.join(i for i in df.columns.values)"
      ]
    },
    {
      "cell_type": "code",
      "execution_count": 8,
      "metadata": {},
      "outputs": [
        {
          "data": {
            "text/plain": [
              "37"
            ]
          },
          "execution_count": 8,
          "metadata": {},
          "output_type": "execute_result"
        }
      ],
      "source": [
        "list(df.columns.values).index('attack')"
      ]
    },
    {
      "cell_type": "markdown",
      "metadata": {},
      "source": [
        "## Splitting features into ```network traffict``` and ```OS metrics``` columns"
      ]
    },
    {
      "cell_type": "code",
      "execution_count": 9,
      "metadata": {},
      "outputs": [],
      "source": [
        "# 'attack' index + itself\n",
        "net_columns = [*df.columns.values[:np.where(df.columns.values == 'attack')[0][0] + 1], 'label_tipo']\n",
        "\n",
        "os_columns = list(df.columns.values[np.where(df.columns.values == 'attack')[0][0]:-1])"
      ]
    },
    {
      "cell_type": "code",
      "execution_count": 10,
      "metadata": {
        "id": "bOzCOsHcgOOH"
      },
      "outputs": [],
      "source": [
        "def is_hp(x):\n",
        "    if x['iptables'] == 0 and x['snort_win'] == 0 and x['snort_linux'] == 0 and x['attack'] == 1:\n",
        "        return 1\n",
        "    return 0\n",
        "\n",
        "# df['honeypot'] = df.apply(is_hp, axis=1)"
      ]
    },
    {
      "cell_type": "markdown",
      "metadata": {},
      "source": [
        "### Some tests"
      ]
    },
    {
      "cell_type": "code",
      "execution_count": 12,
      "metadata": {
        "id": "ajfZGT7mIM_K"
      },
      "outputs": [],
      "source": [
        "iptables = df.drop(['snort_win', 'snort_linux'], axis=1)\n",
        "iptables['name'] = 'iptables'\n",
        "\n",
        "snort_linux = df.drop(['snort_win', 'iptables'], axis=1)\n",
        "snort_linux['name'] = 'snort_linux'\n",
        "\n",
        "snort_win = df.drop(['iptables', 'snort_linux'], axis=1)\n",
        "snort_win['name'] = 'snort_win'"
      ]
    },
    {
      "cell_type": "code",
      "execution_count": 17,
      "metadata": {
        "id": "UNJs5wtUIM_Q"
      },
      "outputs": [],
      "source": [
        "get_X = lambda df: df.drop(['tipo', 'attack', 'name', 'label_tipo', df.name.unique()[0]], axis=1)\n",
        "get_y = lambda df: df[df.name.unique()[0]]\n",
        "get_feature_importances = lambda clf, df: pd.Series(clf.feature_importances_, df.columns).sort_values(ascending=False)\n",
        "\n",
        "def get_X_y(df: pd.DataFrame, rs: int = 42, ts: float = 0.4) -> tuple:\n",
        "    \"\"\" Wrapper function to apply and return train_test_split values \"\"\"\n",
        "    return train_test_split(get_X(df), get_y(df), random_state=rs, test_size=ts)\n",
        "\n",
        "def evaluate_features(clf: object, df: pd.DataFrame, rs: int = 42, ts: float = 0.4) -> tuple:\n",
        "    \"\"\" Function to train and test a classifier based on the hold-out \n",
        "        experimental protocol. \n",
        "\n",
        "        Returns a tuple containing the classification report of the estimator\n",
        "        and a pandas series of the most important features.    \n",
        "    \"\"\"\n",
        "    X_train, X_test, y_train, y_test = get_X_y(df, rs, ts)\n",
        "    clf.fit(X_train, y_train)\n",
        "    y_pred = clf.predict(X_test)\n",
        "\n",
        "    cr = classification_report(y_test, y_pred)\n",
        "    fi = get_feature_importances(clf, X_train)\n",
        "    cm = confusion_matrix(y_test, y_pred)\n",
        "    acc = accuracy_score(y_test, y_pred)\n",
        "    \n",
        "    return cr, fi, cm, acc"
      ]
    },
    {
      "cell_type": "code",
      "execution_count": 22,
      "metadata": {
        "colab": {
          "base_uri": "https://localhost:8080/"
        },
        "id": "J1vrA6bNVYxM",
        "outputId": "1e6852bd-442b-4fef-decd-8ba59dd00293"
      },
      "outputs": [
        {
          "name": "stdout",
          "output_type": "stream",
          "text": [
            "              precision    recall  f1-score   support\n",
            "\n",
            "           0       0.99      0.98      0.98     73218\n",
            "           1       0.92      0.97      0.95     21757\n",
            "\n",
            "    accuracy                           0.97     94975\n",
            "   macro avg       0.96      0.97      0.96     94975\n",
            "weighted avg       0.98      0.97      0.97     94975\n",
            "\n",
            "max_fpktl         0.138522\n",
            "mean_bpktl        0.102904\n",
            "total_bvolume     0.095528\n",
            "sflow_bbytes      0.086199\n",
            "max_bpktl         0.076233\n",
            "total_bhlen       0.059187\n",
            "timestamp         0.051522\n",
            "std_bpktl         0.051105\n",
            "std_fpktl         0.045075\n",
            "total_bpackets    0.039838\n",
            "sflow_bpackets    0.034534\n",
            "sflow_fbytes      0.032359\n",
            "total_fvolume     0.029020\n",
            "min_bpktl         0.022910\n",
            "mean_fpktl        0.019519\n",
            "bpsh_cnt          0.018476\n",
            "total_fpackets    0.016861\n",
            "total_fhlen       0.014254\n",
            "sflow_fpackets    0.012380\n",
            "min_active        0.008346\n",
            "mean_active       0.008107\n",
            "max_fiat          0.006933\n",
            "max_active        0.006826\n",
            "duration          0.005837\n",
            "std_biat          0.005792\n",
            "max_biat          0.004381\n",
            "std_fiat          0.001932\n",
            "min_fiat          0.001138\n",
            "min_biat          0.001084\n",
            "mean_fiat         0.000924\n",
            "fpsh_cnt          0.000791\n",
            "mean_biat         0.000762\n",
            "min_fpktl         0.000719\n",
            "max_idle          0.000000\n",
            "mean_idle         0.000000\n",
            "min_idle          0.000000\n",
            "furg_cnt          0.000000\n",
            "burg_cnt          0.000000\n",
            "std_active        0.000000\n",
            "std_idle          0.000000\n",
            "dtype: float64\n",
            "[[71428  1790]\n",
            " [  623 21134]]\n",
            "0.9745933140300079\n"
          ]
        }
      ],
      "source": [
        "# Storing key/value where each value corresponds a tuple containing a classification\n",
        "# report and feature importances of a given dataframe\n",
        "cr, fi, cm, acc = evaluate_features(RandomForestClassifier(), iptables)\n",
        "print(cr)\n",
        "print(fi)\n",
        "print(cm)\n",
        "print(acc)"
      ]
    },
    {
      "cell_type": "code",
      "execution_count": 23,
      "metadata": {
        "colab": {
          "base_uri": "https://localhost:8080/"
        },
        "id": "sgjpmldkYykD",
        "outputId": "d0ba1710-8486-447e-e27e-d3d5f3aafcbb"
      },
      "outputs": [
        {
          "name": "stdout",
          "output_type": "stream",
          "text": [
            "              precision    recall  f1-score   support\n",
            "\n",
            "           0       1.00      0.99      1.00     69536\n",
            "           1       0.98      0.99      0.99     25439\n",
            "\n",
            "    accuracy                           0.99     94975\n",
            "   macro avg       0.99      0.99      0.99     94975\n",
            "weighted avg       0.99      0.99      0.99     94975\n",
            "\n",
            "std_fpktl         0.149186\n",
            "max_fpktl         0.146640\n",
            "bpsh_cnt          0.116565\n",
            "timestamp         0.111207\n",
            "mean_fpktl        0.097323\n",
            "max_bpktl         0.086306\n",
            "min_fpktl         0.055849\n",
            "total_fhlen       0.054201\n",
            "mean_bpktl        0.044298\n",
            "std_bpktl         0.033880\n",
            "total_fpackets    0.022270\n",
            "sflow_fpackets    0.019774\n",
            "total_bvolume     0.010014\n",
            "sflow_fbytes      0.009020\n",
            "total_fvolume     0.008681\n",
            "total_bhlen       0.007980\n",
            "sflow_bbytes      0.005918\n",
            "fpsh_cnt          0.004645\n",
            "sflow_bpackets    0.002608\n",
            "std_biat          0.002348\n",
            "total_bpackets    0.001911\n",
            "min_fiat          0.001774\n",
            "max_active        0.001358\n",
            "mean_biat         0.001112\n",
            "duration          0.000901\n",
            "mean_active       0.000808\n",
            "min_active        0.000703\n",
            "max_biat          0.000669\n",
            "max_fiat          0.000596\n",
            "min_biat          0.000547\n",
            "min_bpktl         0.000356\n",
            "mean_fiat         0.000282\n",
            "std_fiat          0.000272\n",
            "std_idle          0.000000\n",
            "max_idle          0.000000\n",
            "mean_idle         0.000000\n",
            "std_active        0.000000\n",
            "furg_cnt          0.000000\n",
            "burg_cnt          0.000000\n",
            "min_idle          0.000000\n",
            "dtype: float64\n",
            "[[69082   454]\n",
            " [  210 25229]]\n",
            "0.9930086864964465\n"
          ]
        }
      ],
      "source": [
        "cr, fi, cm, acc = evaluate_features(RandomForestClassifier(), snort_linux)\n",
        "print(cr)\n",
        "print(fi)\n",
        "print(cm)\n",
        "print(acc)"
      ]
    },
    {
      "cell_type": "code",
      "execution_count": 24,
      "metadata": {
        "colab": {
          "base_uri": "https://localhost:8080/"
        },
        "id": "-VnSq82pdlTs",
        "outputId": "d9170596-2a67-4f7a-a6bf-3ec2fa78b812"
      },
      "outputs": [
        {
          "name": "stdout",
          "output_type": "stream",
          "text": [
            "              precision    recall  f1-score   support\n",
            "\n",
            "           0       1.00      0.99      0.99     52323\n",
            "           1       0.99      0.99      0.99     42652\n",
            "\n",
            "    accuracy                           0.99     94975\n",
            "   macro avg       0.99      0.99      0.99     94975\n",
            "weighted avg       0.99      0.99      0.99     94975\n",
            "\n",
            "bpsh_cnt          0.117396\n",
            "timestamp         0.111287\n",
            "min_fpktl         0.102044\n",
            "max_bpktl         0.095504\n",
            "std_fpktl         0.085648\n",
            "max_fpktl         0.075100\n",
            "mean_fpktl        0.060437\n",
            "total_fhlen       0.045796\n",
            "total_bvolume     0.038623\n",
            "sflow_bbytes      0.038181\n",
            "std_bpktl         0.037451\n",
            "total_fpackets    0.035241\n",
            "mean_bpktl        0.034789\n",
            "sflow_fpackets    0.030550\n",
            "sflow_fbytes      0.019901\n",
            "total_bhlen       0.015076\n",
            "sflow_bpackets    0.010260\n",
            "total_fvolume     0.008968\n",
            "min_bpktl         0.008388\n",
            "fpsh_cnt          0.007605\n",
            "total_bpackets    0.003595\n",
            "max_biat          0.002739\n",
            "min_active        0.002199\n",
            "max_active        0.001941\n",
            "std_biat          0.001896\n",
            "mean_active       0.001747\n",
            "min_fiat          0.001731\n",
            "duration          0.001419\n",
            "min_biat          0.001347\n",
            "max_fiat          0.001337\n",
            "mean_fiat         0.000729\n",
            "std_fiat          0.000699\n",
            "mean_biat         0.000376\n",
            "std_idle          0.000000\n",
            "max_idle          0.000000\n",
            "min_idle          0.000000\n",
            "std_active        0.000000\n",
            "furg_cnt          0.000000\n",
            "burg_cnt          0.000000\n",
            "mean_idle         0.000000\n",
            "dtype: float64\n",
            "[[51928   395]\n",
            " [  230 42422]]\n",
            "0.9934193208739142\n"
          ]
        }
      ],
      "source": [
        "cr, fi, cm, acc = evaluate_features(RandomForestClassifier(), snort_win)\n",
        "print(cr)\n",
        "print(fi)\n",
        "print(cm)\n",
        "print(acc)"
      ]
    },
    {
      "cell_type": "markdown",
      "metadata": {},
      "source": [
        "## The MLP"
      ]
    },
    {
      "cell_type": "code",
      "execution_count": 11,
      "metadata": {
        "id": "e8s8QyE7M-k3"
      },
      "outputs": [],
      "source": [
        "from random import sample\n",
        "\n",
        "attacks = df.tipo.unique().tolist()\n",
        "diff = lambda x1, x2: [i for i in x2 if i not in x1]\n",
        "\n",
        "def train_test_split_attacks(\n",
        "        df: pd.DataFrame, \n",
        "        attacks: list, \n",
        "        X_columns: list,\n",
        "        in_cols: list = ['attack', 'iptables', 'snort_win', 'snort_linux', 'tipo', 'label_tipo', 'timestamp'], \n",
        "        out_cols: list = ['iptables', 'snort_win', 'snort_linux', 'attack']):\n",
        "\n",
        "    filter_atks = lambda df, atks: df[df['tipo'].isin(atks)]\n",
        "\n",
        "    train_attacks = sample(attacks, 7)\n",
        "    test_attacks = diff(train_attacks, attacks)\n",
        "    \n",
        "    df = df[X_columns]\n",
        "\n",
        "    X_train = filter_atks(df, train_attacks)\n",
        "    y_train = X_train[out_cols]\n",
        "\n",
        "    X_test = filter_atks(df, test_attacks)\n",
        "    y_test = X_test[out_cols]\n",
        "\n",
        "    return X_train.drop(in_cols, axis=1), X_test.drop(in_cols, axis=1), y_train, y_test, train_attacks, test_attacks\n",
        "\n",
        "\n",
        "def predict(clf: object, x: np.ndarray) -> Tuple[np.ndarray, np.ndarray]:\n",
        "    y_pred = clf.predict(x)\n",
        "    y_pred_mapped = np.array(\n",
        "        list(map(lambda y: list(map(lambda yy: 1 if yy > 0 else 0, y)), y_pred))\n",
        "    )\n",
        "    return y_pred, y_pred_mapped\n",
        "\n",
        "def accucary_per_attack(y_pred: pd.DataFrame, y_true: pd.DataFrame, df: pd.DataFrame, attacks: List[str]) -> pd.Series:\n",
        "    columns = [\n",
        "        'attack', 'tp', 'tn', 'fp', \n",
        "        'fn', 'recall', 'precision', 'f1score'\n",
        "    ]\n",
        "    ret = pd.DataFrame(columns=columns)\n",
        "    \n",
        "    atk_values = df.loc[y_true.index, ['attack', 'tipo']]\n",
        "\n",
        "    for atk in attacks:\n",
        "\n",
        "        true = atk_values[atk_values['tipo'] == atk]['attack']\n",
        "        pred = y_pred[true.reset_index().index, -1]\n",
        "\n",
        "        tp = ((true == 1) & (pred == 1)).sum()\n",
        "        tn = ((true == 0) & (pred == 0)).sum()\n",
        "        fp = ((true == 0) & (pred == 1)).sum()\n",
        "        fn = ((true == 1) & (pred == 0)).sum()\n",
        "        \n",
        "        recall = tp / (tp + fn)\n",
        "        precision = tp / (tp + fp)\n",
        "        data = {\n",
        "            'attack': atk,\n",
        "            'tp': tp,\n",
        "            'tn': tn,\n",
        "            'fp': fp,\n",
        "            'fn': fn,\n",
        "            'accuracy': (tp + tn) / len(true),\n",
        "            'recall': recall,\n",
        "            'precision': precision,\n",
        "            'f1score': 2 * ((recall * precision) / (recall + precision))\n",
        "        }\n",
        "        ret = ret.append(pd.Series(data), ignore_index=True)\n",
        "    return ret\n"
      ]
    },
    {
      "cell_type": "code",
      "execution_count": 12,
      "metadata": {},
      "outputs": [],
      "source": [
        "X_train, X_test, y_train, y_test, train_attacks, test_attacks = train_test_split_attacks(df, attacks, net_columns)"
      ]
    },
    {
      "cell_type": "code",
      "execution_count": 13,
      "metadata": {},
      "outputs": [
        {
          "data": {
            "text/plain": [
              "(['smod-read-coils',\n",
              "  'smod-dos-write-single-register',\n",
              "  'smod-read-input-register',\n",
              "  'smod-scanner-uid',\n",
              "  'nessus-advanced-scan',\n",
              "  'acunetix-sql-injection',\n",
              "  'smod-get-func'],\n",
              " ['acunetix-xss',\n",
              "  'nmap-port-scan',\n",
              "  'arachni-code-injection',\n",
              "  'smod-dos-write-single-coils',\n",
              "  'smod-read-holding-register',\n",
              "  'smod-write-single-coils',\n",
              "  'smod-write-single-register',\n",
              "  'normal'])"
            ]
          },
          "execution_count": 13,
          "metadata": {},
          "output_type": "execute_result"
        }
      ],
      "source": [
        "train_attacks, test_attacks"
      ]
    },
    {
      "cell_type": "code",
      "execution_count": 15,
      "metadata": {},
      "outputs": [],
      "source": [
        "X_train_val, X_test_val, y_train_val, y_test_val = train_test_split(X_train, y_train, test_size=0.33, random_state=43)"
      ]
    },
    {
      "cell_type": "code",
      "execution_count": 20,
      "metadata": {
        "colab": {
          "base_uri": "https://localhost:8080/"
        },
        "id": "ywdj02nJQHTk",
        "outputId": "2d225e90-c676-4bee-8c4d-034112c02be1"
      },
      "outputs": [
        {
          "name": "stdout",
          "output_type": "stream",
          "text": [
            "Iteration 1, loss = 0.41643521\n",
            "Iteration 2, loss = 0.33338700\n",
            "Iteration 3, loss = 0.32978944\n",
            "Iteration 4, loss = 0.32594672\n",
            "Iteration 5, loss = 0.32369814\n",
            "Iteration 6, loss = 0.32356052\n",
            "Iteration 7, loss = 0.32163788\n",
            "Iteration 8, loss = 0.32160882\n",
            "Iteration 9, loss = 0.32132450\n",
            "Iteration 10, loss = 0.32126875\n",
            "Iteration 11, loss = 0.31979931\n",
            "Iteration 12, loss = 0.31912389\n",
            "Iteration 13, loss = 0.31851363\n",
            "Iteration 14, loss = 0.31835936\n",
            "Iteration 15, loss = 0.31775029\n",
            "Iteration 16, loss = 0.31818635\n",
            "Iteration 17, loss = 0.31674450\n",
            "Iteration 18, loss = 0.31705652\n",
            "Iteration 19, loss = 0.31708457\n",
            "Iteration 20, loss = 0.31576423\n",
            "Iteration 21, loss = 0.31593723\n",
            "Iteration 22, loss = 0.31521133\n",
            "Iteration 23, loss = 0.31522395\n",
            "Iteration 24, loss = 0.31460691\n",
            "Iteration 25, loss = 0.31454215\n",
            "Iteration 26, loss = 0.31410265\n",
            "Iteration 27, loss = 0.31328280\n",
            "Iteration 28, loss = 0.31338583\n",
            "Iteration 29, loss = 0.31277847\n",
            "Iteration 30, loss = 0.31234974\n",
            "Iteration 31, loss = 0.31206262\n",
            "Iteration 32, loss = 0.31184203\n",
            "Iteration 33, loss = 0.31109646\n",
            "Iteration 34, loss = 0.30941670\n",
            "Iteration 35, loss = 0.30991197\n",
            "Iteration 36, loss = 0.30998190\n",
            "Iteration 37, loss = 0.30724102\n",
            "Iteration 38, loss = 0.30694818\n",
            "Iteration 39, loss = 0.30565796\n",
            "Iteration 40, loss = 0.30455656\n",
            "Iteration 41, loss = 0.30440710\n",
            "Iteration 42, loss = 0.30470626\n",
            "Iteration 43, loss = 0.30338961\n",
            "Iteration 44, loss = 0.30498998\n",
            "Iteration 45, loss = 0.30334552\n",
            "Iteration 46, loss = 0.30235589\n",
            "Iteration 47, loss = 0.30128464\n",
            "Iteration 48, loss = 0.30053393\n",
            "Iteration 49, loss = 0.30027803\n",
            "Iteration 50, loss = 0.30002071\n",
            "Iteration 51, loss = 0.29896823\n",
            "Iteration 52, loss = 0.29991030\n",
            "Iteration 53, loss = 0.29889029\n",
            "Iteration 54, loss = 0.29960873\n",
            "Iteration 55, loss = 0.29939038\n",
            "Iteration 56, loss = 0.29872164\n",
            "Iteration 57, loss = 0.29952166\n",
            "Iteration 58, loss = 0.29813957\n",
            "Iteration 59, loss = 0.30039627\n",
            "Iteration 60, loss = 0.29711897\n",
            "Iteration 61, loss = 0.30015369\n",
            "Iteration 62, loss = 0.29632991\n",
            "Iteration 63, loss = 0.29739185\n",
            "Iteration 64, loss = 0.29636218\n",
            "Iteration 65, loss = 0.29632278\n",
            "Iteration 66, loss = 0.29895654\n",
            "Iteration 67, loss = 0.29788374\n",
            "Iteration 68, loss = 0.29737413\n",
            "Iteration 69, loss = 0.29628340\n",
            "Iteration 70, loss = 0.29586536\n",
            "Iteration 71, loss = 0.29665176\n",
            "Iteration 72, loss = 0.29675010\n",
            "Iteration 73, loss = 0.29652422\n",
            "Iteration 74, loss = 0.29548181\n",
            "Iteration 75, loss = 0.29527937\n",
            "Iteration 76, loss = 0.29598969\n",
            "Iteration 77, loss = 0.29484915\n",
            "Iteration 78, loss = 0.29488762\n",
            "Iteration 79, loss = 0.29506442\n",
            "Iteration 80, loss = 0.29664717\n",
            "Iteration 81, loss = 0.29486966\n",
            "Iteration 82, loss = 0.29577596\n",
            "Iteration 83, loss = 0.29484953\n",
            "Iteration 84, loss = 0.29498733\n",
            "Iteration 85, loss = 0.29427166\n",
            "Iteration 86, loss = 0.29474347\n",
            "Iteration 87, loss = 0.29437251\n",
            "Iteration 88, loss = 0.29390723\n",
            "Iteration 89, loss = 0.29319474\n",
            "Iteration 90, loss = 0.29346646\n",
            "Iteration 91, loss = 0.29250658\n",
            "Iteration 92, loss = 0.29657456\n",
            "Iteration 93, loss = 0.29392076\n",
            "Iteration 94, loss = 0.29378419\n",
            "Iteration 95, loss = 0.29349489\n",
            "Iteration 96, loss = 0.29312917\n",
            "Iteration 97, loss = 0.29428342\n",
            "Iteration 98, loss = 0.29317213\n",
            "Iteration 99, loss = 0.29433801\n",
            "Iteration 100, loss = 0.29335842\n",
            "Iteration 101, loss = 0.29299696\n",
            "Iteration 102, loss = 0.29170396\n",
            "Iteration 103, loss = 0.29205322\n",
            "Iteration 104, loss = 0.29404405\n",
            "Iteration 105, loss = 0.29306205\n",
            "Iteration 106, loss = 0.29171478\n",
            "Iteration 107, loss = 0.29162703\n",
            "Iteration 108, loss = 0.29342624\n",
            "Iteration 109, loss = 0.29237881\n",
            "Iteration 110, loss = 0.29431247\n",
            "Iteration 111, loss = 0.29130074\n",
            "Iteration 112, loss = 0.29360679\n",
            "Iteration 113, loss = 0.29213063\n",
            "Iteration 114, loss = 0.29088276\n",
            "Iteration 115, loss = 0.29131689\n",
            "Iteration 116, loss = 0.29205569\n",
            "Iteration 117, loss = 0.29045049\n",
            "Iteration 118, loss = 0.29204953\n",
            "Iteration 119, loss = 0.29111749\n",
            "Iteration 120, loss = 0.29188738\n",
            "Iteration 121, loss = 0.29011417\n",
            "Iteration 122, loss = 0.29115142\n",
            "Iteration 123, loss = 0.29152144\n",
            "Iteration 124, loss = 0.29077129\n",
            "Iteration 125, loss = 0.29113513\n",
            "Iteration 126, loss = 0.28984812\n",
            "Iteration 127, loss = 0.29148453\n",
            "Iteration 128, loss = 0.29052448\n",
            "Iteration 129, loss = 0.29050160\n",
            "Iteration 130, loss = 0.29076649\n",
            "Iteration 131, loss = 0.28994782\n",
            "Iteration 132, loss = 0.29117741\n",
            "Iteration 133, loss = 0.28940137\n",
            "Iteration 134, loss = 0.28959210\n",
            "Iteration 135, loss = 0.28965995\n",
            "Iteration 136, loss = 0.28970531\n",
            "Iteration 137, loss = 0.28997100\n",
            "Iteration 138, loss = 0.28960808\n",
            "Iteration 139, loss = 0.28947756\n",
            "Iteration 140, loss = 0.28929171\n",
            "Iteration 141, loss = 0.29100487\n",
            "Iteration 142, loss = 0.29084513\n",
            "Iteration 143, loss = 0.28881961\n",
            "Iteration 144, loss = 0.29037154\n",
            "Iteration 145, loss = 0.29040317\n",
            "Iteration 146, loss = 0.29255737\n",
            "Iteration 147, loss = 0.28909382\n",
            "Iteration 148, loss = 0.28875276\n",
            "Iteration 149, loss = 0.28957771\n",
            "Iteration 150, loss = 0.29068706\n",
            "Iteration 151, loss = 0.28933150\n",
            "Iteration 152, loss = 0.29002515\n",
            "Iteration 153, loss = 0.28913411\n",
            "Iteration 154, loss = 0.29043876\n",
            "Training loss did not improve more than tol=0.000100 for 10 consecutive epochs. Stopping.\n"
          ]
        }
      ],
      "source": [
        "load = False\n",
        "\n",
        "# Activation identity to return values between 0 and 1\n",
        "# Two layers, the first with 500 neurons and the last with 252 neurons \n",
        "# (2 neurons are subtracted from the last layer, one for output and the other for input)\n",
        "# reg = MLPRegressor(hidden_layer_sizes=(500, 252), activation='relu', max_iter=200)\n",
        "reg = MLPClassifier(hidden_layer_sizes=(500, 252), verbose=True)\n",
        "\n",
        "if not load:\n",
        "    reg.fit(X_train_val, y_train_val)\n",
        "\n",
        "    with open('mlp_classifier.obj', mode='wb') as fp:\n",
        "        fp.write(pickle.dumps(reg))\n",
        "else:\n",
        "    with open('mlp_classifier.obj', mode='rb') as fp:\n",
        "        reg = pickle.loads(fp.read())"
      ]
    },
    {
      "cell_type": "code",
      "execution_count": 21,
      "metadata": {
        "id": "qLTn4aYDg-B9"
      },
      "outputs": [],
      "source": [
        "y_pred = reg.predict(X_test_val)"
      ]
    },
    {
      "cell_type": "code",
      "execution_count": 22,
      "metadata": {},
      "outputs": [
        {
          "data": {
            "text/plain": [
              "array([[0, 1, 1, 1],\n",
              "       [1, 1, 0, 1],\n",
              "       [0, 0, 0, 0],\n",
              "       ...,\n",
              "       [0, 0, 0, 0],\n",
              "       [0, 1, 1, 1],\n",
              "       [0, 1, 1, 1]])"
            ]
          },
          "execution_count": 22,
          "metadata": {},
          "output_type": "execute_result"
        }
      ],
      "source": [
        "y_pred"
      ]
    },
    {
      "cell_type": "code",
      "execution_count": 23,
      "metadata": {},
      "outputs": [
        {
          "name": "stdout",
          "output_type": "stream",
          "text": [
            "Column: iptables \t Accuracy: 97.29%\n",
            "Column: snort_win \t Accuracy: 95.87%\n",
            "Column: snort_linux \t Accuracy: 93.87%\n",
            "Column: attack \t Accuracy: 100.00%\n"
          ]
        }
      ],
      "source": [
        "for i, c in enumerate(y_test_val.columns.values):\n",
        "    print(f'Column: {c} \\t Accuracy: {accuracy_score(y_test_val[c], y_pred[:,i]) * 100:.2f}%')"
      ]
    },
    {
      "cell_type": "code",
      "execution_count": 24,
      "metadata": {},
      "outputs": [],
      "source": [
        "y_pred_all = reg.predict(X_test)"
      ]
    },
    {
      "cell_type": "code",
      "execution_count": 28,
      "metadata": {},
      "outputs": [
        {
          "name": "stderr",
          "output_type": "stream",
          "text": [
            "/tmp/ipykernel_41640/116054841.py:55: RuntimeWarning: invalid value encountered in long_scalars\n",
            "  recall = tp / (tp + fn)\n"
          ]
        },
        {
          "data": {
            "text/html": [
              "<div>\n",
              "<style scoped>\n",
              "    .dataframe tbody tr th:only-of-type {\n",
              "        vertical-align: middle;\n",
              "    }\n",
              "\n",
              "    .dataframe tbody tr th {\n",
              "        vertical-align: top;\n",
              "    }\n",
              "\n",
              "    .dataframe thead th {\n",
              "        text-align: right;\n",
              "    }\n",
              "</style>\n",
              "<table border=\"1\" class=\"dataframe\">\n",
              "  <thead>\n",
              "    <tr style=\"text-align: right;\">\n",
              "      <th></th>\n",
              "      <th>attack</th>\n",
              "      <th>tp</th>\n",
              "      <th>tn</th>\n",
              "      <th>fp</th>\n",
              "      <th>fn</th>\n",
              "      <th>recall</th>\n",
              "      <th>precision</th>\n",
              "      <th>f1score</th>\n",
              "      <th>accuracy</th>\n",
              "    </tr>\n",
              "  </thead>\n",
              "  <tbody>\n",
              "    <tr>\n",
              "      <th>0</th>\n",
              "      <td>acunetix-xss</td>\n",
              "      <td>5370</td>\n",
              "      <td>3818</td>\n",
              "      <td>0</td>\n",
              "      <td>0</td>\n",
              "      <td>1.000000</td>\n",
              "      <td>1.000000</td>\n",
              "      <td>1.000000</td>\n",
              "      <td>1.000000</td>\n",
              "    </tr>\n",
              "    <tr>\n",
              "      <th>1</th>\n",
              "      <td>nmap-port-scan</td>\n",
              "      <td>1537</td>\n",
              "      <td>405</td>\n",
              "      <td>1091</td>\n",
              "      <td>560</td>\n",
              "      <td>0.732952</td>\n",
              "      <td>0.584855</td>\n",
              "      <td>0.650582</td>\n",
              "      <td>0.540495</td>\n",
              "    </tr>\n",
              "    <tr>\n",
              "      <th>2</th>\n",
              "      <td>arachni-code-injection</td>\n",
              "      <td>16183</td>\n",
              "      <td>8345</td>\n",
              "      <td>10191</td>\n",
              "      <td>10245</td>\n",
              "      <td>0.612343</td>\n",
              "      <td>0.613597</td>\n",
              "      <td>0.612969</td>\n",
              "      <td>0.545503</td>\n",
              "    </tr>\n",
              "    <tr>\n",
              "      <th>3</th>\n",
              "      <td>smod-dos-write-single-coils</td>\n",
              "      <td>1181</td>\n",
              "      <td>169</td>\n",
              "      <td>850</td>\n",
              "      <td>251</td>\n",
              "      <td>0.824721</td>\n",
              "      <td>0.581487</td>\n",
              "      <td>0.682068</td>\n",
              "      <td>0.550796</td>\n",
              "    </tr>\n",
              "    <tr>\n",
              "      <th>4</th>\n",
              "      <td>smod-read-holding-register</td>\n",
              "      <td>5187</td>\n",
              "      <td>2774</td>\n",
              "      <td>3692</td>\n",
              "      <td>4051</td>\n",
              "      <td>0.561485</td>\n",
              "      <td>0.584187</td>\n",
              "      <td>0.572611</td>\n",
              "      <td>0.506941</td>\n",
              "    </tr>\n",
              "    <tr>\n",
              "      <th>5</th>\n",
              "      <td>smod-write-single-coils</td>\n",
              "      <td>5009</td>\n",
              "      <td>2697</td>\n",
              "      <td>3419</td>\n",
              "      <td>3819</td>\n",
              "      <td>0.567399</td>\n",
              "      <td>0.594328</td>\n",
              "      <td>0.580552</td>\n",
              "      <td>0.515658</td>\n",
              "    </tr>\n",
              "    <tr>\n",
              "      <th>6</th>\n",
              "      <td>smod-write-single-register</td>\n",
              "      <td>4825</td>\n",
              "      <td>2656</td>\n",
              "      <td>3324</td>\n",
              "      <td>3724</td>\n",
              "      <td>0.564393</td>\n",
              "      <td>0.592097</td>\n",
              "      <td>0.577914</td>\n",
              "      <td>0.514901</td>\n",
              "    </tr>\n",
              "    <tr>\n",
              "      <th>7</th>\n",
              "      <td>normal</td>\n",
              "      <td>0</td>\n",
              "      <td>14795</td>\n",
              "      <td>20896</td>\n",
              "      <td>0</td>\n",
              "      <td>NaN</td>\n",
              "      <td>0.000000</td>\n",
              "      <td>NaN</td>\n",
              "      <td>0.414530</td>\n",
              "    </tr>\n",
              "  </tbody>\n",
              "</table>\n",
              "</div>"
            ],
            "text/plain": [
              "                        attack     tp     tn     fp     fn    recall  \\\n",
              "0                 acunetix-xss   5370   3818      0      0  1.000000   \n",
              "1               nmap-port-scan   1537    405   1091    560  0.732952   \n",
              "2       arachni-code-injection  16183   8345  10191  10245  0.612343   \n",
              "3  smod-dos-write-single-coils   1181    169    850    251  0.824721   \n",
              "4   smod-read-holding-register   5187   2774   3692   4051  0.561485   \n",
              "5      smod-write-single-coils   5009   2697   3419   3819  0.567399   \n",
              "6   smod-write-single-register   4825   2656   3324   3724  0.564393   \n",
              "7                       normal      0  14795  20896      0       NaN   \n",
              "\n",
              "   precision   f1score  accuracy  \n",
              "0   1.000000  1.000000  1.000000  \n",
              "1   0.584855  0.650582  0.540495  \n",
              "2   0.613597  0.612969  0.545503  \n",
              "3   0.581487  0.682068  0.550796  \n",
              "4   0.584187  0.572611  0.506941  \n",
              "5   0.594328  0.580552  0.515658  \n",
              "6   0.592097  0.577914  0.514901  \n",
              "7   0.000000       NaN  0.414530  "
            ]
          },
          "execution_count": 28,
          "metadata": {},
          "output_type": "execute_result"
        }
      ],
      "source": [
        "accucary_per_attack(y_pred_all, y_test, df, test_attacks)"
      ]
    },
    {
      "cell_type": "code",
      "execution_count": 31,
      "metadata": {},
      "outputs": [
        {
          "name": "stderr",
          "output_type": "stream",
          "text": [
            "/tmp/ipykernel_41640/116054841.py:56: RuntimeWarning: invalid value encountered in long_scalars\n",
            "  precision = tp / (tp + fp)\n"
          ]
        },
        {
          "data": {
            "text/html": [
              "<div>\n",
              "<style scoped>\n",
              "    .dataframe tbody tr th:only-of-type {\n",
              "        vertical-align: middle;\n",
              "    }\n",
              "\n",
              "    .dataframe tbody tr th {\n",
              "        vertical-align: top;\n",
              "    }\n",
              "\n",
              "    .dataframe thead th {\n",
              "        text-align: right;\n",
              "    }\n",
              "</style>\n",
              "<table border=\"1\" class=\"dataframe\">\n",
              "  <thead>\n",
              "    <tr style=\"text-align: right;\">\n",
              "      <th></th>\n",
              "      <th>attack</th>\n",
              "      <th>tp</th>\n",
              "      <th>tn</th>\n",
              "      <th>fp</th>\n",
              "      <th>fn</th>\n",
              "      <th>recall</th>\n",
              "      <th>precision</th>\n",
              "      <th>f1score</th>\n",
              "      <th>accuracy</th>\n",
              "    </tr>\n",
              "  </thead>\n",
              "  <tbody>\n",
              "    <tr>\n",
              "      <th>0</th>\n",
              "      <td>smod-read-coils</td>\n",
              "      <td>5385</td>\n",
              "      <td>2611</td>\n",
              "      <td>3928</td>\n",
              "      <td>3826</td>\n",
              "      <td>0.584627</td>\n",
              "      <td>0.578224</td>\n",
              "      <td>0.581408</td>\n",
              "      <td>0.507683</td>\n",
              "    </tr>\n",
              "    <tr>\n",
              "      <th>1</th>\n",
              "      <td>smod-dos-write-single-register</td>\n",
              "      <td>2806</td>\n",
              "      <td>1317</td>\n",
              "      <td>1917</td>\n",
              "      <td>1898</td>\n",
              "      <td>0.596514</td>\n",
              "      <td>0.594114</td>\n",
              "      <td>0.595311</td>\n",
              "      <td>0.519400</td>\n",
              "    </tr>\n",
              "    <tr>\n",
              "      <th>2</th>\n",
              "      <td>smod-read-input-register</td>\n",
              "      <td>5551</td>\n",
              "      <td>2698</td>\n",
              "      <td>3879</td>\n",
              "      <td>3839</td>\n",
              "      <td>0.591161</td>\n",
              "      <td>0.588653</td>\n",
              "      <td>0.589904</td>\n",
              "      <td>0.516628</td>\n",
              "    </tr>\n",
              "    <tr>\n",
              "      <th>3</th>\n",
              "      <td>smod-scanner-uid</td>\n",
              "      <td>803</td>\n",
              "      <td>429</td>\n",
              "      <td>553</td>\n",
              "      <td>611</td>\n",
              "      <td>0.567893</td>\n",
              "      <td>0.592183</td>\n",
              "      <td>0.579783</td>\n",
              "      <td>0.514190</td>\n",
              "    </tr>\n",
              "    <tr>\n",
              "      <th>4</th>\n",
              "      <td>nessus-advanced-scan</td>\n",
              "      <td>9604</td>\n",
              "      <td>4653</td>\n",
              "      <td>6914</td>\n",
              "      <td>7029</td>\n",
              "      <td>0.577406</td>\n",
              "      <td>0.581426</td>\n",
              "      <td>0.579409</td>\n",
              "      <td>0.505567</td>\n",
              "    </tr>\n",
              "    <tr>\n",
              "      <th>5</th>\n",
              "      <td>acunetix-sql-injection</td>\n",
              "      <td>15412</td>\n",
              "      <td>10688</td>\n",
              "      <td>1</td>\n",
              "      <td>0</td>\n",
              "      <td>1.000000</td>\n",
              "      <td>0.999935</td>\n",
              "      <td>0.999968</td>\n",
              "      <td>0.999962</td>\n",
              "    </tr>\n",
              "    <tr>\n",
              "      <th>6</th>\n",
              "      <td>smod-get-func</td>\n",
              "      <td>0</td>\n",
              "      <td>8</td>\n",
              "      <td>0</td>\n",
              "      <td>12</td>\n",
              "      <td>0.000000</td>\n",
              "      <td>NaN</td>\n",
              "      <td>NaN</td>\n",
              "      <td>0.400000</td>\n",
              "    </tr>\n",
              "  </tbody>\n",
              "</table>\n",
              "</div>"
            ],
            "text/plain": [
              "                           attack     tp     tn    fp    fn    recall  \\\n",
              "0                 smod-read-coils   5385   2611  3928  3826  0.584627   \n",
              "1  smod-dos-write-single-register   2806   1317  1917  1898  0.596514   \n",
              "2        smod-read-input-register   5551   2698  3879  3839  0.591161   \n",
              "3                smod-scanner-uid    803    429   553   611  0.567893   \n",
              "4            nessus-advanced-scan   9604   4653  6914  7029  0.577406   \n",
              "5          acunetix-sql-injection  15412  10688     1     0  1.000000   \n",
              "6                   smod-get-func      0      8     0    12  0.000000   \n",
              "\n",
              "   precision   f1score  accuracy  \n",
              "0   0.578224  0.581408  0.507683  \n",
              "1   0.594114  0.595311  0.519400  \n",
              "2   0.588653  0.589904  0.516628  \n",
              "3   0.592183  0.579783  0.514190  \n",
              "4   0.581426  0.579409  0.505567  \n",
              "5   0.999935  0.999968  0.999962  \n",
              "6        NaN       NaN  0.400000  "
            ]
          },
          "execution_count": 31,
          "metadata": {},
          "output_type": "execute_result"
        }
      ],
      "source": [
        "y_pred_train = reg.predict(X_train)\n",
        "accucary_per_attack(y_pred_train, y_train, df, train_attacks)"
      ]
    },
    {
      "cell_type": "code",
      "execution_count": 47,
      "metadata": {},
      "outputs": [
        {
          "name": "stdout",
          "output_type": "stream",
          "text": [
            "              precision    recall  f1-score   support\n",
            "\n",
            "           0       0.92      0.98      0.95     11134\n",
            "           1       0.97      0.67      0.79      8080\n",
            "           2       1.00      1.00      1.00       621\n",
            "           3       1.00      1.00      1.00     11974\n",
            "\n",
            "   micro avg       0.96      0.91      0.94     31809\n",
            "   macro avg       0.97      0.91      0.93     31809\n",
            "weighted avg       0.96      0.91      0.93     31809\n",
            " samples avg       0.43      0.42      0.42     31809\n",
            "\n"
          ]
        }
      ],
      "source": [
        "print(classification_report(y_test_val, y_pred, zero_division=False))"
      ]
    },
    {
      "cell_type": "markdown",
      "metadata": {},
      "source": [
        "## Confusion Matrix"
      ]
    },
    {
      "cell_type": "code",
      "execution_count": 175,
      "metadata": {
        "colab": {
          "base_uri": "https://localhost:8080/",
          "height": 132
        },
        "id": "MWPHiGuu0ArW",
        "outputId": "95d97b04-b87f-4f10-b75a-acb453859f44"
      },
      "outputs": [],
      "source": [
        "def matrix(df: pd.DataFrame, y_true: pd.DataFrame, y_pred: np.ndarray) -> np.ndarray:\n",
        "    # Storing attack by their encoded label\n",
        "    # Ex.: \"'acunetix-sql-injection': 0\"\n",
        "    attacks = dict(zip(le.inverse_transform(df['label_tipo'].unique()), df['label_tipo'].unique()))\n",
        "\n",
        "    # Creating empty matrix \n",
        "    mat = np.zeros((len(attacks), len(attacks)))\n",
        "    \n",
        "    for i, df_index in enumerate(y_true.index.values.tolist()):\n",
        "        row = y_true.loc[df_index]\n",
        "        attack = df.loc[df_index, 'tipo']\n",
        "        atk_index = attacks[attack]\n",
        "        \n",
        "        # Conditions / Metrics\n",
        "        tp = row.attack == 1 and y_pred[i,3] == 1\n",
        "        tn = row.attack == 0 and y_pred[i,3] == 0\n",
        "        fp = row.attack == 0 and y_pred[i,3] == 1\n",
        "        fn = row.attack == 1 and y_pred[i,3] == 0\n",
        "\n",
        "        if tp or tn:\n",
        "            mat[atk_index, atk_index] += 1\n",
        "        elif fp or fn:\n",
        "            # 5 because label encoder said that 'normal' labels are 5 ?????\n",
        "            mat[atk_index, 5] += 1\n",
        "\n",
        "    return mat"
      ]
    },
    {
      "cell_type": "code",
      "execution_count": 176,
      "metadata": {},
      "outputs": [],
      "source": [
        "cm = matrix(df, y_test, y_pred)"
      ]
    },
    {
      "cell_type": "code",
      "execution_count": 177,
      "metadata": {
        "id": "ia0vFa6G0xwd"
      },
      "outputs": [
        {
          "name": "stderr",
          "output_type": "stream",
          "text": [
            "/tmp/ipykernel_34191/1647265325.py:7: MatplotlibDeprecationWarning: savefig() got unexpected keyword argument \"tight_layout\" which is no longer supported as of 3.3 and will become an error two minor releases later\n",
            "  fig.savefig('teste.png', dpi=230, tight_layout=True)\n"
          ]
        },
        {
          "data": {
            "image/png": "[encoded data removed]",
            "text/plain": [
              "<Figure size 720x720 with 1 Axes>"
            ]
          },
          "metadata": {},
          "output_type": "display_data"
        }
      ],
      "source": [
        "import seaborn as sns\n",
        "import matplotlib.pyplot as plt\n",
        "sns.set(font_scale=1.2)\n",
        "fig = plt.figure(figsize=(10, 10), constrained_layout=True)\n",
        "sns.heatmap(cm, annot=True, fmt=\"1g\", cmap='YlGnBu', cbar=False)\n",
        "plt.yticks(rotation=90)\n",
        "fig.savefig('teste.png', dpi=230, tight_layout=True)"
      ]
    },
    {
      "cell_type": "markdown",
      "metadata": {},
      "source": [
        "# `System` classifiers"
      ]
    },
    {
      "cell_type": "markdown",
      "metadata": {},
      "source": [
        "## Preparing columns"
      ]
    },
    {
      "cell_type": "code",
      "execution_count": 38,
      "metadata": {},
      "outputs": [],
      "source": [
        "windows = RandomForestClassifier()"
      ]
    },
    {
      "cell_type": "code",
      "execution_count": 39,
      "metadata": {},
      "outputs": [
        {
          "data": {
            "text/plain": [
              "'attack, txpck, rxkB, txkB, rxcmp, txcmp, rxmcst, ifutil, kbmemfree, kbmemused, memused, kbbuffers, kbcached, kbcommit, commit, kbactive, kbinact, kbdirty, kbanonpg, kbslab, kbkstack, kbpgtbl, kbvmused, CPU, nice, sys, iowait, steal, irq, soft, guest, gnice, idle, pswpin, pswpout, proc, cswch, intr, sum, classe_atk_num_sysmon, classe_num_sysmon, ID1, ID2, ID3, ID4, ID5, ID6, ID7, ID8, ID9, ID10, ID11, ID12, ID13, ID14, ID15, ID16, ID17, ID18, ID19, ID20, ID21, ID22, classe_atk_num, classe_num, class_atk_sysmon, class_sysmon, class_atk_sysstat, class_sysstat'"
            ]
          },
          "execution_count": 39,
          "metadata": {},
          "output_type": "execute_result"
        }
      ],
      "source": [
        "', '.join(os_columns)"
      ]
    },
    {
      "cell_type": "code",
      "execution_count": 40,
      "metadata": {},
      "outputs": [],
      "source": [
        "win_columns = [*os_columns[os_columns.index('ID1'):os_columns.index('ID22') + 1], 'attack', 'class_atk_sysmon', 'class_sysmon']"
      ]
    },
    {
      "cell_type": "code",
      "execution_count": 41,
      "metadata": {},
      "outputs": [],
      "source": [
        "linux_columns = [*os_columns[:os_columns.index('ID1')]]"
      ]
    },
    {
      "cell_type": "markdown",
      "metadata": {},
      "source": [
        "## Evaluating RF over Linux features"
      ]
    },
    {
      "cell_type": "code",
      "execution_count": 42,
      "metadata": {},
      "outputs": [],
      "source": [
        "linux = RandomForestClassifier()\n",
        "Xli = df[linux_columns].drop(['attack', 'classe_atk_num_sysmon', 'classe_num_sysmon'], axis=1)\n",
        "yli = df['attack']\n",
        "X_train_linux, X_test_linux, y_train_linux, y_test_linux = train_test_split(Xli, yli, random_state=42, test_size=0.3)"
      ]
    },
    {
      "cell_type": "code",
      "execution_count": 43,
      "metadata": {},
      "outputs": [
        {
          "data": {
            "text/plain": [
              "RandomForestClassifier()"
            ]
          },
          "execution_count": 43,
          "metadata": {},
          "output_type": "execute_result"
        }
      ],
      "source": [
        "linux.fit(X_train_linux, y_train_linux)"
      ]
    },
    {
      "cell_type": "code",
      "execution_count": 44,
      "metadata": {},
      "outputs": [],
      "source": [
        "y_pred_li = linux.predict(X_test_linux)"
      ]
    },
    {
      "cell_type": "code",
      "execution_count": 45,
      "metadata": {},
      "outputs": [
        {
          "name": "stdout",
          "output_type": "stream",
          "text": [
            "              precision    recall  f1-score   support\n",
            "\n",
            "           0       0.80      0.66      0.72     35543\n",
            "           1       0.71      0.84      0.77     35688\n",
            "\n",
            "    accuracy                           0.75     71231\n",
            "   macro avg       0.76      0.75      0.75     71231\n",
            "weighted avg       0.76      0.75      0.75     71231\n",
            "\n"
          ]
        }
      ],
      "source": [
        "print(classification_report(y_test_linux, y_pred_li))"
      ]
    },
    {
      "cell_type": "markdown",
      "metadata": {},
      "source": [
        "## Evaluating RF over Windows features"
      ]
    },
    {
      "cell_type": "code",
      "execution_count": 46,
      "metadata": {},
      "outputs": [],
      "source": [
        "windows = RandomForestClassifier()\n",
        "Xw = df[win_columns].drop(['attack', 'class_atk_sysmon', 'class_sysmon'], axis=1)\n",
        "yw = df['attack']\n",
        "X_train_win, X_test_win, y_train_win, y_test_win = train_test_split(Xw, yw, random_state=42, test_size=0.3)"
      ]
    },
    {
      "cell_type": "code",
      "execution_count": 47,
      "metadata": {},
      "outputs": [
        {
          "data": {
            "text/plain": [
              "RandomForestClassifier()"
            ]
          },
          "execution_count": 47,
          "metadata": {},
          "output_type": "execute_result"
        }
      ],
      "source": [
        "windows.fit(X_train_win, y_train_win)"
      ]
    },
    {
      "cell_type": "code",
      "execution_count": 48,
      "metadata": {},
      "outputs": [],
      "source": [
        "y_pred_win = windows.predict(X_test_win)"
      ]
    },
    {
      "cell_type": "code",
      "execution_count": 49,
      "metadata": {},
      "outputs": [
        {
          "name": "stdout",
          "output_type": "stream",
          "text": [
            "              precision    recall  f1-score   support\n",
            "\n",
            "           0       0.95      0.31      0.47     35543\n",
            "           1       0.59      0.98      0.74     35688\n",
            "\n",
            "    accuracy                           0.65     71231\n",
            "   macro avg       0.77      0.65      0.60     71231\n",
            "weighted avg       0.77      0.65      0.60     71231\n",
            "\n"
          ]
        }
      ],
      "source": [
        "print(classification_report(y_test_win, y_pred_win))"
      ]
    },
    {
      "cell_type": "markdown",
      "metadata": {},
      "source": [
        "# Pseudocode"
      ]
    },
    {
      "cell_type": "code",
      "execution_count": 68,
      "metadata": {},
      "outputs": [],
      "source": [
        "def test(clf: MLPClassifier, system: object, tools_instances: np.ndarray, system_instances: np.ndarray) -> None:\n",
        "    y_pred = clf.predict(tools_instances)\n",
        "\n",
        "    snort_win = y_pred[:, 0]\n",
        "    snort_linux = y_pred[:, 1]\n",
        "    iptables = y_pred[:, 2]\n",
        "    normal = y_pred[:, 3]\n",
        "\n",
        "    tools = [snort_win, snort_linux, iptables]\n",
        "\n",
        "    print(tools, normal)\n",
        "\n",
        "    if normal == 0 and sum(tools) == 0:\n",
        "        print(\"SEND TO SCADA\")\n",
        "\n",
        "    if normal == 0 and sum(tools) == 1:\n",
        "        if system.predict(system_instances)[0] == 1:\n",
        "            print(\"HONEYPOT\")\n",
        "        print(\"SCADA\")\n",
        "    \n",
        "    if normal == 0 and sum(tools) >= 2:\n",
        "        print(\"HONEYPOT\")\n",
        "    \n",
        "    if normal == 1 and sum(tools) == 1:\n",
        "        print(\"I THINK IT'S A NORMAL TRAFFIC\")\n",
        "        if system.predict(system_instances)[0] == 0:\n",
        "            print(\"HONEYPOT\")\n",
        "        print(\"BLOCK\")\n",
        "    \n",
        "    if normal == 1 and sum(tools) >= 2:\n",
        "        print(\"HONEYPOT\")\n",
        "    \n",
        "    if normal == 1 and sum(tools) >= 2:\n",
        "        print(\"BLOCK\")"
      ]
    },
    {
      "cell_type": "code",
      "execution_count": 74,
      "metadata": {},
      "outputs": [
        {
          "name": "stdout",
          "output_type": "stream",
          "text": [
            "[array([1]), array([0]), array([0])] [1]\n",
            "I THINK IT'S A NORMAL TRAFFIC\n",
            "BLOCK\n"
          ]
        }
      ],
      "source": [
        "XX_test = X_test.to_numpy()[139902]\n",
        "XXw = Xw.to_numpy()[8]\n",
        "\n",
        "test(reg, windows, [XX_test], [XXw])"
      ]
    },
    {
      "cell_type": "code",
      "execution_count": null,
      "metadata": {},
      "outputs": [],
      "source": []
    }
  ],
  "metadata": {
    "colab": {
      "collapsed_sections": [],
      "name": "models.ipynb",
      "provenance": []
    },
    "interpreter": {
      "hash": "613c0f857a483e99fc01015a7399502dd077ecb7d267c4bfa8b811b67183004f"
    },
    "kernelspec": {
      "display_name": "Python 3.9.7 64-bit ('venv': venv)",
      "name": "python3"
    },
    "language_info": {
      "codemirror_mode": {
        "name": "ipython",
        "version": 3
      },
      "file_extension": ".py",
      "mimetype": "text/x-python",
      "name": "python",
      "nbconvert_exporter": "python",
      "pygments_lexer": "ipython3",
      "version": "3.9.7"
    },
    "orig_nbformat": 4
  },
  "nbformat": 4,
  "nbformat_minor": 2
}
